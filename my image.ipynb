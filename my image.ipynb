{
 "cells": [
  {
   "cell_type": "code",
   "execution_count": 1,
   "metadata": {},
   "outputs": [],
   "source": [
    "import cv2"
   ]
  },
  {
   "cell_type": "code",
   "execution_count": 2,
   "metadata": {},
   "outputs": [],
   "source": [
    "import numpy "
   ]
  },
  {
   "cell_type": "code",
   "execution_count": 3,
   "metadata": {},
   "outputs": [],
   "source": [
    "img = numpy.zeros((600,600, 3), dtype=\"uint8\")"
   ]
  },
  {
   "cell_type": "code",
   "execution_count": 4,
   "metadata": {},
   "outputs": [],
   "source": [
    "for i in range(0, 25):\n",
    "    cv2.rectangle(img, (80, 30), (500, 500), (0, 0, 255), 5)\n",
    "    cv2.rectangle(img, (120, 80), (450, 450), (0, 255, 0), 5)\n",
    "    cv2.rectangle(img, (160, 130), (400, 400), (255, 0, 0), 5)\n",
    "    cv2.rectangle(img, (200, 180), (350, 350), (0, 0, 255), 5)\n",
    "    cv2.rectangle(img, (240, 230), (300, 300), (0, 255, 0), 5)\n",
    "    cv2.rectangle(img, (290, 280), (250, 250), (255, 0, 0), 5)\n",
    "cv2.imshow(\"Hiii\", img)\n",
    "cv2.waitKey(0)\n",
    "cv2.destroyAllWindows()"
   ]
  },
  {
   "cell_type": "code",
   "execution_count": null,
   "metadata": {},
   "outputs": [],
   "source": []
  }
 ],
 "metadata": {
  "kernelspec": {
   "display_name": "Python 3",
   "language": "python",
   "name": "python3"
  },
  "language_info": {
   "codemirror_mode": {
    "name": "ipython",
    "version": 3
   },
   "file_extension": ".py",
   "mimetype": "text/x-python",
   "name": "python",
   "nbconvert_exporter": "python",
   "pygments_lexer": "ipython3",
   "version": "3.8.3"
  }
 },
 "nbformat": 4,
 "nbformat_minor": 4
}
